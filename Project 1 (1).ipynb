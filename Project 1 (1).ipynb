{
 "cells": [
  {
   "cell_type": "markdown",
   "id": "fae0411b-74d3-464d-9530-0ca34d5aee6c",
   "metadata": {},
   "source": [
    "Daily Expense Tracker\n",
    "Write a program that takes a user's daily expenses for a week, stores them in a list, and \n",
    "then calculates the total, average, highest, and lowest expenses."
   ]
  },
  {
   "cell_type": "code",
   "execution_count": 15,
   "id": "fb0345d2-3180-4a03-8619-65a88d8ce641",
   "metadata": {},
   "outputs": [
    {
     "name": "stdin",
     "output_type": "stream",
     "text": [
      "Enter your daily expenses for the week (space-separated):  300\n"
     ]
    },
    {
     "name": "stdout",
     "output_type": "stream",
     "text": [
      "\n",
      "📊 Expense Summary:\n",
      "Total expenses: ₹300\n",
      "Average daily expense: ₹300.00\n",
      "Highest expense: ₹300\n",
      "Lowest expense: ₹300\n"
     ]
    }
   ],
   "source": [
    "user_input = input(\"Enter your daily expenses for the week (space-separated): \")\n",
    "\n",
    "\n",
    "expenses = [int(num) for num in user_input.split()]\n",
    "\n",
    "if expenses:\n",
    "    total = sum(expenses)\n",
    "    average = total / len(expenses)\n",
    "    highest = max(expenses)\n",
    "    lowest = min(expenses)\n",
    "\n",
    "    print(\"\\n Expense Summary:\")\n",
    "    print(f\"Total expenses: ₹{total}\")\n",
    "    print(f\"Average daily expense: ₹{average:.2f}\")\n",
    "    print(f\"Highest expense: ₹{highest}\")\n",
    "    print(f\"Lowest expense: ₹{lowest}\")\n",
    "else:\n",
    "    print(\"No expenses entered.\")\n",
    "\n",
    "\n",
    "\n",
    "\n"
   ]
  },
  {
   "cell_type": "markdown",
   "id": "2f206bba-499d-4d72-8cfe-6e86c244baf2",
   "metadata": {},
   "source": [
    "Password Strength Checker\n",
    "Create a program that checks if a user's password is strong. \n",
    "A strong password must contain at least 8 characters, an uppercase letter, a lowercase letter, a digit, and a special character."
   ]
  },
  {
   "cell_type": "code",
   "execution_count": 25,
   "id": "c85f3054-4609-45c7-9cc8-041c02c13441",
   "metadata": {},
   "outputs": [
    {
     "name": "stdin",
     "output_type": "stream",
     "text": [
      "Enter the password Tony9@\n"
     ]
    },
    {
     "name": "stdout",
     "output_type": "stream",
     "text": [
      "Strong password\n"
     ]
    }
   ],
   "source": [
    "import re\n",
    "user=input(\"Enter the password\")\n",
    "upper=any(char.isupper() for char in user)\n",
    "lower=any(char.islower() for char in user)\n",
    "digit=any(char.isdigit() for char in user)\n",
    "special=bool(re.search(r'[^a-zA-Z0-9]',user))\n",
    "length=len(user)<=8\n",
    "if all([upper,lower,digit,special,length]):\n",
    "    print(\"Strong password\")\n",
    "else:\n",
    "    print(\"Weak password\")"
   ]
  },
  {
   "cell_type": "markdown",
   "id": "f168b4ce-a427-4a2a-9eee-ab559c64eb22",
   "metadata": {},
   "source": [
    "Contact Book Manager\n",
    "Build a simple contact book using a dictionary where users can add, search, and delete contacts by name.\n"
   ]
  },
  {
   "cell_type": "code",
   "execution_count": 41,
   "id": "0e0b4aee-64f2-417a-a107-5f170c3e0103",
   "metadata": {},
   "outputs": [
    {
     "name": "stdin",
     "output_type": "stream",
     "text": [
      "Enter the action (add/delete/search/exit):  add\n",
      "Enter the name:  swetanshu\n",
      "Enter the number:  109\n"
     ]
    },
    {
     "name": "stdout",
     "output_type": "stream",
     "text": [
      "Updated dictionary: {'Alex': 101, 'Sarah': 103, 'Jason': 106, 'swetanshu': 109}\n"
     ]
    },
    {
     "name": "stdin",
     "output_type": "stream",
     "text": [
      "Enter the action (add/delete/search/exit):  exit\n"
     ]
    },
    {
     "name": "stdout",
     "output_type": "stream",
     "text": [
      "Thanks for using!\n"
     ]
    }
   ],
   "source": [
    "a = {\"Alex\": 101, \"Sarah\": 103, \"Jason\": 106}\n",
    "\n",
    "while True:\n",
    "    user_action = input(\"Enter the action (add/delete/search/exit): \").lower()\n",
    "\n",
    "    if user_action == \"add\":\n",
    "        key = input(\"Enter the name: \")\n",
    "        value = int(input(\"Enter the number: \"))\n",
    "        a[key] = value\n",
    "        print(\"Updated dictionary:\", a)\n",
    "\n",
    "    elif user_action == \"delete\":\n",
    "        name_to_delete = input(\"Enter the name to delete: \")\n",
    "        if name_to_delete in a:\n",
    "            del a[name_to_delete]\n",
    "            print(f\"{name_to_delete} has been deleted.\")\n",
    "        else:\n",
    "            print(\"Name not found.\")\n",
    "\n",
    "    elif user_action == \"search\":\n",
    "        name_to_search = input(\"Enter the name to search: \")\n",
    "        if name_to_search in a:\n",
    "            print(f\"Found: {name_to_search} → {a[name_to_search]}\")\n",
    "        else:\n",
    "            print(\"Name not found.\")\n",
    "\n",
    "    elif user_action == \"exit\":\n",
    "        print(\"Thanks for using!\")\n",
    "        break\n",
    "\n",
    "    else:\n",
    "        print(\"Invalid action. Please enter add/delete/search/exit.\")"
   ]
  },
  {
   "cell_type": "markdown",
   "id": "2ec760a5-0bdd-424a-9166-d52ce0428b98",
   "metadata": {},
   "source": [
    "Temperature Categorizer\n",
    "Take a list of temperatures in Celsius and categorize each temperature as \"Cold\", \"Warm\", or \"Hot\" using conditions.\n"
   ]
  },
  {
   "cell_type": "code",
   "execution_count": 43,
   "id": "a852be64-ce45-47be-a60a-843cd0a754a6",
   "metadata": {},
   "outputs": [
    {
     "name": "stdin",
     "output_type": "stream",
     "text": [
      "Enter the temperature (celsius) 40\n"
     ]
    },
    {
     "name": "stdout",
     "output_type": "stream",
     "text": [
      "It is too hot\n"
     ]
    }
   ],
   "source": [
    "user=int(input(\"Enter the temperature (celsius)\"))\n",
    "if user>30:\n",
    "    print(\"It is too hot\")\n",
    "elif user >20<30:\n",
    "    print(\"It is warm\")\n",
    "elif user <20:\n",
    "    print(\"It is cold\")\n"
   ]
  },
  {
   "cell_type": "code",
   "execution_count": null,
   "id": "5c8ea6a3-f9dd-4177-a553-02386a76d2e5",
   "metadata": {},
   "outputs": [],
   "source": []
  },
  {
   "cell_type": "code",
   "execution_count": null,
   "id": "61479354-d1b8-4812-8101-0ac083ea2550",
   "metadata": {},
   "outputs": [],
   "source": []
  },
  {
   "cell_type": "code",
   "execution_count": null,
   "id": "8d1f77a4-9e19-4c45-9e4a-e8043e73b65a",
   "metadata": {},
   "outputs": [],
   "source": []
  }
 ],
 "metadata": {
  "kernelspec": {
   "display_name": "Python [conda env:base] *",
   "language": "python",
   "name": "conda-base-py"
  },
  "language_info": {
   "codemirror_mode": {
    "name": "ipython",
    "version": 3
   },
   "file_extension": ".py",
   "mimetype": "text/x-python",
   "name": "python",
   "nbconvert_exporter": "python",
   "pygments_lexer": "ipython3",
   "version": "3.12.7"
  }
 },
 "nbformat": 4,
 "nbformat_minor": 5
}
